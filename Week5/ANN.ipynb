{
 "cells": [
  {
   "cell_type": "code",
   "execution_count": 1,
   "metadata": {},
   "outputs": [],
   "source": [
    "import numpy as np\n",
    "import matplotlib.pyplot as plt\n",
    "import pandas as pd"
   ]
  },
  {
   "cell_type": "code",
   "execution_count": 15,
   "metadata": {},
   "outputs": [],
   "source": [
    "import warnings\n",
    "warnings.filterwarnings((\"ignore\"))"
   ]
  },
  {
   "cell_type": "code",
   "execution_count": 16,
   "metadata": {},
   "outputs": [],
   "source": [
    "dataset = pd.read_csv('Churn_Modelling.csv')\n",
    "X = dataset.iloc[:, 3:13].values\n",
    "y = dataset.iloc[:, 13].values"
   ]
  },
  {
   "cell_type": "code",
   "execution_count": 17,
   "metadata": {
    "scrolled": true
   },
   "outputs": [],
   "source": [
    "# encoding categorical data\n",
    "from sklearn.preprocessing import LabelEncoder, OneHotEncoder\n",
    "labelencoder_X_1 = LabelEncoder()\n",
    "X[:, 1] = labelencoder_X_1.fit_transform(X[:, 1])\n",
    "labelencoder_X_2 = LabelEncoder()\n",
    "X[:, 2] = labelencoder_X_2.fit_transform(X[:, 2])\n",
    "onehotencoder = OneHotEncoder(categorical_features = [1])\n",
    "X = onehotencoder.fit_transform(X).toarray()\n",
    "X = X[:, 1:]"
   ]
  },
  {
   "cell_type": "code",
   "execution_count": 18,
   "metadata": {},
   "outputs": [],
   "source": [
    "# Splitting the dataset into the Training set and Test set\n",
    "from sklearn.model_selection import train_test_split\n",
    "X_train, X_test, y_train, y_test = train_test_split(X, y, test_size = 0.2, random_state = 0)"
   ]
  },
  {
   "cell_type": "code",
   "execution_count": 19,
   "metadata": {},
   "outputs": [],
   "source": [
    "# Feature Scaling\n",
    "from sklearn.preprocessing import StandardScaler\n",
    "sc = StandardScaler()\n",
    "X_train = sc.fit_transform(X_train)\n",
    "X_test = sc.transform(X_test)"
   ]
  },
  {
   "cell_type": "code",
   "execution_count": 20,
   "metadata": {},
   "outputs": [],
   "source": [
    "import keras"
   ]
  },
  {
   "cell_type": "code",
   "execution_count": 21,
   "metadata": {},
   "outputs": [],
   "source": [
    "from keras.models import Sequential\n",
    "from keras.layers import Dense"
   ]
  },
  {
   "cell_type": "code",
   "execution_count": 22,
   "metadata": {},
   "outputs": [],
   "source": [
    "#Initialising the ANN\n",
    "classifier = Sequential()"
   ]
  },
  {
   "cell_type": "code",
   "execution_count": 23,
   "metadata": {},
   "outputs": [],
   "source": [
    "#adding input layer & first hidden layer\n",
    "classifier.add(Dense(output_dim=6, init = 'uniform', activation='relu', input_dim=11))"
   ]
  },
  {
   "cell_type": "code",
   "execution_count": 24,
   "metadata": {},
   "outputs": [],
   "source": [
    "#adding the second hidden layer\n",
    "classifier.add(Dense(output_dim=6, init = 'uniform', activation='relu'))"
   ]
  },
  {
   "cell_type": "code",
   "execution_count": 25,
   "metadata": {},
   "outputs": [],
   "source": [
    "#adding the output layer\n",
    "classifier.add(Dense(output_dim=1, init = 'uniform', activation='sigmoid'))"
   ]
  },
  {
   "cell_type": "code",
   "execution_count": 27,
   "metadata": {},
   "outputs": [],
   "source": [
    "#compiling the ANN\n",
    "classifier.compile(optimizer='adam', loss='binary_crossentropy', metrics=['accuracy'])"
   ]
  },
  {
   "cell_type": "code",
   "execution_count": 28,
   "metadata": {},
   "outputs": [
    {
     "name": "stderr",
     "output_type": "stream",
     "text": [
      "W0703 21:02:07.204929 4432897472 deprecation_wrapper.py:119] From /anaconda3/lib/python3.7/site-packages/keras/backend/tensorflow_backend.py:986: The name tf.assign_add is deprecated. Please use tf.compat.v1.assign_add instead.\n",
      "\n"
     ]
    },
    {
     "name": "stdout",
     "output_type": "stream",
     "text": [
      "Epoch 1/100\n",
      "8000/8000 [==============================] - 1s 170us/step - loss: 0.4855 - acc: 0.7960\n",
      "Epoch 2/100\n",
      "8000/8000 [==============================] - 1s 131us/step - loss: 0.4280 - acc: 0.7960\n",
      "Epoch 3/100\n",
      "8000/8000 [==============================] - 1s 162us/step - loss: 0.4237 - acc: 0.7960\n",
      "Epoch 4/100\n",
      "8000/8000 [==============================] - 1s 132us/step - loss: 0.4193 - acc: 0.8189\n",
      "Epoch 5/100\n",
      "8000/8000 [==============================] - 1s 127us/step - loss: 0.4173 - acc: 0.8257\n",
      "Epoch 6/100\n",
      "8000/8000 [==============================] - 1s 130us/step - loss: 0.4146 - acc: 0.8272\n",
      "Epoch 7/100\n",
      "8000/8000 [==============================] - 1s 129us/step - loss: 0.4133 - acc: 0.8319\n",
      "Epoch 8/100\n",
      "8000/8000 [==============================] - 1s 129us/step - loss: 0.4117 - acc: 0.8340\n",
      "Epoch 9/100\n",
      "8000/8000 [==============================] - 1s 163us/step - loss: 0.4110 - acc: 0.8314\n",
      "Epoch 10/100\n",
      "8000/8000 [==============================] - 1s 124us/step - loss: 0.4099 - acc: 0.8326\n",
      "Epoch 11/100\n",
      "8000/8000 [==============================] - 1s 118us/step - loss: 0.4094 - acc: 0.8344\n",
      "Epoch 12/100\n",
      "8000/8000 [==============================] - 1s 135us/step - loss: 0.4087 - acc: 0.8345\n",
      "Epoch 13/100\n",
      "8000/8000 [==============================] - 1s 145us/step - loss: 0.4079 - acc: 0.8337\n",
      "Epoch 14/100\n",
      "8000/8000 [==============================] - 1s 137us/step - loss: 0.4075 - acc: 0.8342\n",
      "Epoch 15/100\n",
      "8000/8000 [==============================] - 1s 126us/step - loss: 0.4063 - acc: 0.8344\n",
      "Epoch 16/100\n",
      "8000/8000 [==============================] - 1s 156us/step - loss: 0.4068 - acc: 0.8344\n",
      "Epoch 17/100\n",
      "8000/8000 [==============================] - 1s 126us/step - loss: 0.4059 - acc: 0.8349\n",
      "Epoch 18/100\n",
      "8000/8000 [==============================] - 1s 125us/step - loss: 0.4055 - acc: 0.8352\n",
      "Epoch 19/100\n",
      "8000/8000 [==============================] - 1s 133us/step - loss: 0.4049 - acc: 0.8340\n",
      "Epoch 20/100\n",
      "8000/8000 [==============================] - 1s 125us/step - loss: 0.4053 - acc: 0.8334\n",
      "Epoch 21/100\n",
      "8000/8000 [==============================] - 1s 124us/step - loss: 0.4042 - acc: 0.8364\n",
      "Epoch 22/100\n",
      "8000/8000 [==============================] - 1s 148us/step - loss: 0.4034 - acc: 0.8354\n",
      "Epoch 23/100\n",
      "8000/8000 [==============================] - 1s 128us/step - loss: 0.4019 - acc: 0.8349\n",
      "Epoch 24/100\n",
      "8000/8000 [==============================] - 1s 124us/step - loss: 0.4018 - acc: 0.8336\n",
      "Epoch 25/100\n",
      "8000/8000 [==============================] - 1s 124us/step - loss: 0.4008 - acc: 0.8365\n",
      "Epoch 26/100\n",
      "8000/8000 [==============================] - 1s 139us/step - loss: 0.4001 - acc: 0.8356\n",
      "Epoch 27/100\n",
      "8000/8000 [==============================] - 1s 141us/step - loss: 0.3999 - acc: 0.8351\n",
      "Epoch 28/100\n",
      "8000/8000 [==============================] - 1s 124us/step - loss: 0.3990 - acc: 0.8355\n",
      "Epoch 29/100\n",
      "8000/8000 [==============================] - 1s 124us/step - loss: 0.3984 - acc: 0.8352\n",
      "Epoch 30/100\n",
      "8000/8000 [==============================] - 1s 133us/step - loss: 0.3979 - acc: 0.8340\n",
      "Epoch 31/100\n",
      "8000/8000 [==============================] - 1s 131us/step - loss: 0.3980 - acc: 0.8372\n",
      "Epoch 32/100\n",
      "8000/8000 [==============================] - 1s 145us/step - loss: 0.3976 - acc: 0.8361\n",
      "Epoch 33/100\n",
      "8000/8000 [==============================] - 1s 151us/step - loss: 0.3973 - acc: 0.8352\n",
      "Epoch 34/100\n",
      "8000/8000 [==============================] - 1s 141us/step - loss: 0.3965 - acc: 0.8352\n",
      "Epoch 35/100\n",
      "8000/8000 [==============================] - 1s 135us/step - loss: 0.3967 - acc: 0.8350\n",
      "Epoch 36/100\n",
      "8000/8000 [==============================] - 1s 123us/step - loss: 0.3962 - acc: 0.8339\n",
      "Epoch 37/100\n",
      "8000/8000 [==============================] - 1s 124us/step - loss: 0.3963 - acc: 0.8351\n",
      "Epoch 38/100\n",
      "8000/8000 [==============================] - 1s 134us/step - loss: 0.3962 - acc: 0.8352\n",
      "Epoch 39/100\n",
      "8000/8000 [==============================] - 1s 139us/step - loss: 0.3958 - acc: 0.8336\n",
      "Epoch 40/100\n",
      "8000/8000 [==============================] - 1s 131us/step - loss: 0.3956 - acc: 0.8362\n",
      "Epoch 41/100\n",
      "8000/8000 [==============================] - 1s 154us/step - loss: 0.3954 - acc: 0.8345\n",
      "Epoch 42/100\n",
      "8000/8000 [==============================] - 1s 145us/step - loss: 0.3954 - acc: 0.8342\n",
      "Epoch 43/100\n",
      "8000/8000 [==============================] - 1s 132us/step - loss: 0.3949 - acc: 0.8366\n",
      "Epoch 44/100\n",
      "8000/8000 [==============================] - 1s 157us/step - loss: 0.3949 - acc: 0.8349\n",
      "Epoch 45/100\n",
      "8000/8000 [==============================] - 1s 133us/step - loss: 0.3952 - acc: 0.8341\n",
      "Epoch 46/100\n",
      "8000/8000 [==============================] - 1s 125us/step - loss: 0.3947 - acc: 0.8354\n",
      "Epoch 47/100\n",
      "8000/8000 [==============================] - 1s 125us/step - loss: 0.3952 - acc: 0.8351\n",
      "Epoch 48/100\n",
      "8000/8000 [==============================] - 1s 125us/step - loss: 0.3945 - acc: 0.8365\n",
      "Epoch 49/100\n",
      "8000/8000 [==============================] - 1s 124us/step - loss: 0.3943 - acc: 0.8367\n",
      "Epoch 50/100\n",
      "8000/8000 [==============================] - 1s 151us/step - loss: 0.3949 - acc: 0.8362\n",
      "Epoch 51/100\n",
      "8000/8000 [==============================] - 1s 134us/step - loss: 0.3948 - acc: 0.8345\n",
      "Epoch 52/100\n",
      "8000/8000 [==============================] - 1s 161us/step - loss: 0.3947 - acc: 0.8355\n",
      "Epoch 53/100\n",
      "8000/8000 [==============================] - 1s 152us/step - loss: 0.3945 - acc: 0.8350\n",
      "Epoch 54/100\n",
      "8000/8000 [==============================] - 1s 149us/step - loss: 0.3937 - acc: 0.8347\n",
      "Epoch 55/100\n",
      "8000/8000 [==============================] - 1s 133us/step - loss: 0.3940 - acc: 0.8367\n",
      "Epoch 56/100\n",
      "8000/8000 [==============================] - 1s 137us/step - loss: 0.3939 - acc: 0.8342\n",
      "Epoch 57/100\n",
      "8000/8000 [==============================] - 1s 139us/step - loss: 0.3936 - acc: 0.8344\n",
      "Epoch 58/100\n",
      "8000/8000 [==============================] - 1s 130us/step - loss: 0.3938 - acc: 0.8375\n",
      "Epoch 59/100\n",
      "8000/8000 [==============================] - 1s 134us/step - loss: 0.3937 - acc: 0.8359\n",
      "Epoch 60/100\n",
      "8000/8000 [==============================] - 1s 134us/step - loss: 0.3937 - acc: 0.8354\n",
      "Epoch 61/100\n",
      "8000/8000 [==============================] - 1s 131us/step - loss: 0.3938 - acc: 0.8357\n",
      "Epoch 62/100\n",
      "8000/8000 [==============================] - 1s 141us/step - loss: 0.3935 - acc: 0.8370\n",
      "Epoch 63/100\n",
      "8000/8000 [==============================] - 1s 145us/step - loss: 0.3938 - acc: 0.8332\n",
      "Epoch 64/100\n",
      "8000/8000 [==============================] - 1s 143us/step - loss: 0.3933 - acc: 0.8357\n",
      "Epoch 65/100\n",
      "8000/8000 [==============================] - 1s 128us/step - loss: 0.3940 - acc: 0.8360\n",
      "Epoch 66/100\n",
      "8000/8000 [==============================] - 1s 121us/step - loss: 0.3931 - acc: 0.8362\n",
      "Epoch 67/100\n",
      "8000/8000 [==============================] - 1s 122us/step - loss: 0.3940 - acc: 0.8335\n",
      "Epoch 68/100\n",
      "8000/8000 [==============================] - 1s 134us/step - loss: 0.3933 - acc: 0.8365\n",
      "Epoch 69/100\n",
      "8000/8000 [==============================] - 1s 139us/step - loss: 0.3938 - acc: 0.8362\n",
      "Epoch 70/100\n",
      "8000/8000 [==============================] - 1s 124us/step - loss: 0.3930 - acc: 0.8356\n",
      "Epoch 71/100\n",
      "8000/8000 [==============================] - 1s 122us/step - loss: 0.3930 - acc: 0.8360\n",
      "Epoch 72/100\n",
      "8000/8000 [==============================] - 1s 122us/step - loss: 0.3927 - acc: 0.8355\n",
      "Epoch 73/100\n",
      "8000/8000 [==============================] - 1s 138us/step - loss: 0.3928 - acc: 0.8352\n",
      "Epoch 74/100\n",
      "8000/8000 [==============================] - 1s 129us/step - loss: 0.3926 - acc: 0.8366\n",
      "Epoch 75/100\n",
      "8000/8000 [==============================] - 1s 138us/step - loss: 0.3918 - acc: 0.8369\n",
      "Epoch 76/100\n",
      "8000/8000 [==============================] - 1s 130us/step - loss: 0.3907 - acc: 0.8351\n",
      "Epoch 77/100\n",
      "8000/8000 [==============================] - 1s 137us/step - loss: 0.3897 - acc: 0.8339\n",
      "Epoch 78/100\n",
      "8000/8000 [==============================] - 1s 128us/step - loss: 0.3882 - acc: 0.8355\n",
      "Epoch 79/100\n",
      "8000/8000 [==============================] - 1s 134us/step - loss: 0.3881 - acc: 0.8365\n",
      "Epoch 80/100\n",
      "8000/8000 [==============================] - 1s 130us/step - loss: 0.3878 - acc: 0.8375\n",
      "Epoch 81/100\n",
      "8000/8000 [==============================] - 1s 139us/step - loss: 0.3865 - acc: 0.8375\n",
      "Epoch 82/100\n"
     ]
    },
    {
     "name": "stdout",
     "output_type": "stream",
     "text": [
      "8000/8000 [==============================] - 1s 135us/step - loss: 0.3863 - acc: 0.8361\n",
      "Epoch 83/100\n",
      "8000/8000 [==============================] - 1s 145us/step - loss: 0.3857 - acc: 0.8384\n",
      "Epoch 84/100\n",
      "8000/8000 [==============================] - 1s 136us/step - loss: 0.3857 - acc: 0.8354\n",
      "Epoch 85/100\n",
      "8000/8000 [==============================] - 1s 135us/step - loss: 0.3840 - acc: 0.8400\n",
      "Epoch 86/100\n",
      "8000/8000 [==============================] - 1s 135us/step - loss: 0.3846 - acc: 0.8350\n",
      "Epoch 87/100\n",
      "8000/8000 [==============================] - 1s 134us/step - loss: 0.3844 - acc: 0.8379\n",
      "Epoch 88/100\n",
      "8000/8000 [==============================] - 1s 136us/step - loss: 0.3835 - acc: 0.8385\n",
      "Epoch 89/100\n",
      "8000/8000 [==============================] - 1s 140us/step - loss: 0.3834 - acc: 0.8380\n",
      "Epoch 90/100\n",
      "8000/8000 [==============================] - 1s 144us/step - loss: 0.3827 - acc: 0.8379\n",
      "Epoch 91/100\n",
      "8000/8000 [==============================] - 1s 135us/step - loss: 0.3815 - acc: 0.8372\n",
      "Epoch 92/100\n",
      "8000/8000 [==============================] - 1s 145us/step - loss: 0.3820 - acc: 0.8372\n",
      "Epoch 93/100\n",
      "8000/8000 [==============================] - 1s 135us/step - loss: 0.3813 - acc: 0.8365\n",
      "Epoch 94/100\n",
      "8000/8000 [==============================] - 1s 134us/step - loss: 0.3806 - acc: 0.8386\n",
      "Epoch 95/100\n",
      "8000/8000 [==============================] - 1s 138us/step - loss: 0.3801 - acc: 0.8382\n",
      "Epoch 96/100\n",
      "8000/8000 [==============================] - 1s 141us/step - loss: 0.3799 - acc: 0.8370\n",
      "Epoch 97/100\n",
      "8000/8000 [==============================] - 1s 136us/step - loss: 0.3792 - acc: 0.8382\n",
      "Epoch 98/100\n",
      "8000/8000 [==============================] - 1s 137us/step - loss: 0.3786 - acc: 0.8396\n",
      "Epoch 99/100\n",
      "8000/8000 [==============================] - 1s 137us/step - loss: 0.3781 - acc: 0.8377\n",
      "Epoch 100/100\n",
      "8000/8000 [==============================] - 1s 135us/step - loss: 0.3771 - acc: 0.8384\n"
     ]
    },
    {
     "data": {
      "text/plain": [
       "<keras.callbacks.History at 0x1a2d630da0>"
      ]
     },
     "execution_count": 28,
     "metadata": {},
     "output_type": "execute_result"
    }
   ],
   "source": [
    "#fitting ANN to the training set\n",
    "classifier.fit(X_train, y_train, batch_size=10, nb_epoch=100)"
   ]
  },
  {
   "cell_type": "code",
   "execution_count": 31,
   "metadata": {},
   "outputs": [],
   "source": [
    "#predicting the test set results\n",
    "y_pred = classifier.predict(X_test)\n",
    "y_pred = (y_pred > 0.5) #if probability > 0.5, it is true, else it is false"
   ]
  },
  {
   "cell_type": "code",
   "execution_count": 32,
   "metadata": {},
   "outputs": [
    {
     "data": {
      "text/plain": [
       "array([[False],\n",
       "       [False],\n",
       "       [False],\n",
       "       ...,\n",
       "       [False],\n",
       "       [False],\n",
       "       [False]])"
      ]
     },
     "execution_count": 32,
     "metadata": {},
     "output_type": "execute_result"
    }
   ],
   "source": [
    "y_pred"
   ]
  },
  {
   "cell_type": "code",
   "execution_count": 33,
   "metadata": {},
   "outputs": [],
   "source": [
    "#Confusion matrix\n",
    "from sklearn.metrics import confusion_matrix\n",
    "cm = confusion_matrix(y_test, y_pred)"
   ]
  },
  {
   "cell_type": "code",
   "execution_count": 34,
   "metadata": {},
   "outputs": [
    {
     "data": {
      "text/plain": [
       "array([[1530,   65],\n",
       "       [ 251,  154]])"
      ]
     },
     "execution_count": 34,
     "metadata": {},
     "output_type": "execute_result"
    }
   ],
   "source": [
    "cm"
   ]
  },
  {
   "cell_type": "code",
   "execution_count": 35,
   "metadata": {},
   "outputs": [
    {
     "name": "stdout",
     "output_type": "stream",
     "text": [
      "84.2\n"
     ]
    }
   ],
   "source": [
    "# accuracy\n",
    "from sklearn.metrics import accuracy_score\n",
    "print(accuracy_score(y_pred,y_test)*100)"
   ]
  }
 ],
 "metadata": {
  "kernelspec": {
   "display_name": "Python 3",
   "language": "python",
   "name": "python3"
  },
  "language_info": {
   "codemirror_mode": {
    "name": "ipython",
    "version": 3
   },
   "file_extension": ".py",
   "mimetype": "text/x-python",
   "name": "python",
   "nbconvert_exporter": "python",
   "pygments_lexer": "ipython3",
   "version": "3.7.3"
  }
 },
 "nbformat": 4,
 "nbformat_minor": 2
}
